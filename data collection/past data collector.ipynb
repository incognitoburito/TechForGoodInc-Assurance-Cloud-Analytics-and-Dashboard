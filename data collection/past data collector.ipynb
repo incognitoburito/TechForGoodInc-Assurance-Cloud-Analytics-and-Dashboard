{
 "cells": [
  {
   "cell_type": "code",
   "execution_count": 142,
   "id": "a42b6fa5",
   "metadata": {},
   "outputs": [],
   "source": [
    "import csv\n",
    "import numpy as np\n",
    "from datetime import date"
   ]
  },
  {
   "cell_type": "code",
   "execution_count": 143,
   "id": "ee931561",
   "metadata": {},
   "outputs": [],
   "source": [
    "def read_file(filename, L):\n",
    "    fp = open(filename, \"r\")\n",
    "    reader = csv.reader(fp)\n",
    "    fp.readline()\n",
    "    for line in reader: \n",
    "        # line order: incident id, date, state or province, city or county, address, killed, injured\n",
    "        L.append(line[:7])"
   ]
  },
  {
   "cell_type": "code",
   "execution_count": 144,
   "id": "4fe1ef15",
   "metadata": {},
   "outputs": [
    {
     "name": "stdout",
     "output_type": "stream",
     "text": [
      "[['274849' 'December 31, 2014' 'Missouri' ... 'N/A' '0' '1']\n",
      " ['271885' 'December 31, 2014' 'Maryland' ...\n",
      "  '4700 block of Shamrock Avenue' '0' '1']\n",
      " ['271883' 'December 31, 2014' 'Maryland' ...\n",
      "  '5600 block of Harford Road' '0' '1']\n",
      " ...\n",
      " ['2029889' 'June 9, 2021' 'South Carolina' ... 'Saddle Ridge Rd' '1' '0']\n",
      " ['2030060' 'June 9, 2021' 'Minnesota' ... '360 Butler Ave E' '1' '0']\n",
      " ['2029308' 'June 9, 2021' 'Illinois' ... '2800 block of W Warren Ave'\n",
      "  '1' '1']]\n",
      "\n",
      "first item:  ['274849' 'December 31, 2014' 'Missouri' 'Springfield' 'N/A' '0' '1']\n",
      "\n",
      "last item:  ['2029308' 'June 9, 2021' 'Illinois' 'Chicago'\n",
      " '2800 block of W Warren Ave' '1' '1']\n"
     ]
    }
   ],
   "source": [
    "data_list = []\n",
    "\n",
    "for year in range(2014, 2022):\n",
    "    filename = str(year) + \".csv\"\n",
    "    read_file(filename, data_list)\n",
    "\n",
    "data = np.array(data_list) # up to July 15th, 2021\n",
    "print(data)\n",
    "print(\"\\nfirst item: \", data[0])\n",
    "print(\"\\nlast item: \", data[-1])"
   ]
  },
  {
   "cell_type": "code",
   "execution_count": 145,
   "id": "2ad247ca",
   "metadata": {},
   "outputs": [
    {
     "name": "stdout",
     "output_type": "stream",
     "text": [
      "[['2064327' 'July 16, 2021' 'Maryland' 'Lexington Park'\n",
      "  '11500 block of Tippet Rd' '1' '0']\n",
      " ['2064106' 'July 16, 2021' 'Alabama' 'Mobile' '1861 Government St' '1'\n",
      "  '0']\n",
      " ['2063816' 'July 15, 2021' 'Ohio' 'East Liverpool'\n",
      "  '1200 block of Pennsylvania Ave' '1' '0']\n",
      " ['2063676' 'July 15, 2021' 'South Carolina' 'Mayesville'\n",
      "  '600 block of Elliott Highway' '1' '0']\n",
      " ['2063658' 'July 15, 2021' 'Texas' 'Houston' '5900 Guhn Rd' '1' '0']\n",
      " ['2063301' 'July 15, 2021' 'California' 'Oakland'\n",
      "  '300 block of Ghormley Ave' '1' '0']\n",
      " ['2063596' 'July 15, 2021' 'Texas' 'Houston' '800 block of Rankin Rd'\n",
      "  '1' '0']\n",
      " ['2063504' 'July 15, 2021' 'Georgia' 'Lithonia'\n",
      "  '2300 block of Cherokee Valley Cir' '1' '0']\n",
      " ['2063420' 'July 15, 2021' 'Michigan' 'Standish'\n",
      "  '2100 block of Whites Beach Rd' '1' '0']\n",
      " ['2063346' 'July 15, 2021' 'Illinois' 'Decatur'\n",
      "  'N Illinois St and E Leafland Ave' '1' '1']\n",
      " ['2063495' 'July 15, 2021' 'Texas' 'Levelland' '1105 10th St' '1' '4']\n",
      " ['2063156' 'July 15, 2021' 'Arizona' 'Phoenix'\n",
      "  'W Elwood St and S Central Ave' '1' '0']\n",
      " ['2064282' 'July 15, 2021' 'Texas' 'Wichita Falls' '2610 Iowa Park Rd'\n",
      "  '1' '0']\n",
      " ['2063120' 'July 15, 2021' 'New York' 'Bronx' '1150 College Ave' '1' '0']\n",
      " ['2063399' 'July 15, 2021' 'Illinois' 'Chicago'\n",
      "  '1400 block of S Avers Ave' '1' '0']\n",
      " ['2063408' 'July 15, 2021' 'Illinois' 'Chicago' '7706 S Seeley Ave' '1'\n",
      "  '0']\n",
      " ['2063684' 'July 15, 2021' 'North Carolina' 'Pineville' 'N/A' '1' '0']\n",
      " ['2064153' 'July 15, 2021' 'Montana' 'Hungry Horse' 'US-2' '1' '0']\n",
      " ['2063897' 'July 15, 2021' 'Missouri' 'Lake Ozark'\n",
      "  '1312 Bagnell Dam Blvd' '1' '4']\n",
      " ['2064063' 'July 15, 2021' 'California' 'Los Angeles'\n",
      "  '4044 Eagle Rock Blvd' '1' '0']\n",
      " ['2064055' 'July 15, 2021' 'California' 'Los Angeles'\n",
      "  '12700 Western Ave' '2' '0']\n",
      " ['2063689' 'July 15, 2021' 'Georgia' 'Atlanta'\n",
      "  '1300 block of Joseph E. Boone Blvd' '1' '2']\n",
      " ['2063303' 'July 15, 2021' 'California' 'Los Angeles (Hollywood)'\n",
      "  'Hollywood Blvd and Cherokee Ave' '1' '0']\n",
      " ['2062811' 'July 14, 2021' 'California' 'Los Angeles'\n",
      "  'Crenshaw Blvd and W 43rd St' '1' '1']\n",
      " ['2063802' 'July 14, 2021' 'Ohio' 'Cleveland'\n",
      "  'Lee Heights Blvd and Glendale Ave' '1' '0']]\n"
     ]
    }
   ],
   "source": [
    "from bs4 import BeautifulSoup\n",
    "import requests\n",
    "\n",
    "link = \"https://www.gunviolencearchive.org/reports/number-of-gun-deaths\"\n",
    "\n",
    "website = requests.get(link).text \n",
    "source = BeautifulSoup(website, \"lxml\") # lxml for fast large data processing\n",
    "src = source.find_all(\"td\")\n",
    "holder = []\n",
    "for line in src:\n",
    "    if line.text.split() != ['View', 'Incident', 'View', 'Source']:\n",
    "        holder.append(line.text)\n",
    "\n",
    "holder = np.array(holder).reshape(-1, 7)\n",
    "print(holder)"
   ]
  },
  {
   "cell_type": "code",
   "execution_count": 146,
   "id": "0ebbd4b4",
   "metadata": {},
   "outputs": [
    {
     "name": "stdout",
     "output_type": "stream",
     "text": [
      "[['274849' 'December 31, 2014' 'Missouri' ... 'N/A' '0' '1']\n",
      " ['271885' 'December 31, 2014' 'Maryland' ...\n",
      "  '4700 block of Shamrock Avenue' '0' '1']\n",
      " ['271883' 'December 31, 2014' 'Maryland' ...\n",
      "  '5600 block of Harford Road' '0' '1']\n",
      " ...\n",
      " ['2029889' 'June 9, 2021' 'South Carolina' ... 'Saddle Ridge Rd' '1' '0']\n",
      " ['2030060' 'June 9, 2021' 'Minnesota' ... '360 Butler Ave E' '1' '0']\n",
      " ['2029308' 'June 9, 2021' 'Illinois' ... '2800 block of W Warren Ave'\n",
      "  '1' '1']]\n"
     ]
    }
   ],
   "source": [
    "id_list = []\n",
    "\n",
    "for item in data:\n",
    "    id_list.append(item[0])\n",
    "\n",
    "\n",
    "for incident in holder:\n",
    "    if not incident[0] in id_list:\n",
    "        np.vstack((data, incident))\n",
    "\n",
    "print(data)"
   ]
  }
 ],
 "metadata": {
  "kernelspec": {
   "display_name": "Python 3",
   "language": "python",
   "name": "python3"
  },
  "language_info": {
   "codemirror_mode": {
    "name": "ipython",
    "version": 3
   },
   "file_extension": ".py",
   "mimetype": "text/x-python",
   "name": "python",
   "nbconvert_exporter": "python",
   "pygments_lexer": "ipython3",
   "version": "3.8.10"
  }
 },
 "nbformat": 4,
 "nbformat_minor": 5
}
